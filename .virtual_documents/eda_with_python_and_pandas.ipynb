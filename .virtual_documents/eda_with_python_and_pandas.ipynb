








import pandas as pd                          # data manipulation
import numpy as np                           # scientific computing
import matplotlib.pyplot as plt              # visualization
import seaborn as sns                        # visualization
import calmap                                # calendar heatmaps
from ydata_profiling import ProfileReport    # one-line EDA




















df = pd.read_csv('data/supermarket_sales.csv')    # read-in the dataset 


df.head(n=3)    # view the first n-rows of the dataset


df.tail(n=3)    # view the last n-rows of the dataset


df.columns    # get the columns of the dataset


df.dtypes    # get the data type of each column





df['Date'] = pd.to_datetime(df['Date'],format='%m/%d/%y')    # change the type of 'Date' column from object to datetime





df.dtypes





df = df.set_index('Date')    # set the Date column as the index of df





df.head()





df.describe()    # This way, the function generates summary statistics for only the numeric columns














import warnings
warnings.filterwarnings("ignore", "use_inf_as_na")    # The following graph generates a warning, which can be suppressed with this line





sns.histplot(df['Rating'], kde=True, stat="density",kde_kws=dict(cut=3), alpha=.4, edgecolor=(1, 1, 1, .4));





sns.histplot(df['Rating'], kde=True, stat="density",kde_kws=dict(cut=3), alpha=.4, edgecolor=(1, 1, 1, .4))
plt.axvline(x=np.mean(df['Rating']), c='r', ls='--', label='mean');    # plotting the mean as a vertical red line





sns.histplot(df['Rating'], kde=True, stat="density",kde_kws=dict(cut=3), alpha=.4, edgecolor=(1, 1, 1, .4))
plt.axvline(x=np.mean(df['Rating']), c='r', ls='--', label='mean')                              # plotting the mean as a vertical red line
plt.axvline(x=np.percentile(df['Rating'], 25), c='g', ls='--', label='25th - 75th percentile')  # plotting the 25th percentile as a vertical green line
plt.axvline(x=np.percentile(df['Rating'], 75), c='g', ls='--')                                  # plotting the 75th percentile as a vertical green line
plt.legend()     # show the labels on the plot
plt.show()








df.hist(figsize=(10, 10));








sns.countplot(x='Branch', data=df, hue='Branch');





df['Branch'].value_counts()    # counts of unique values





sns.countplot(x='Payment', data=df, hue='Payment');











sns.scatterplot(data=df, x='Rating', y='gross income');    # draw a scatter plot





sns.regplot(data=df, x='Rating', y='gross income', line_kws={'color': 'red'});    # plot data and a linear regression model fit








sns.boxplot(data=df, x='Branch', y='gross income', hue='Branch');    # draw a box plot to show distributions with respect to categories








sns.boxplot(data=df, x='Gender', y='gross income', hue='Gender');     # draw a box plot to show distributions with respect to categories











df.index.value_counts()





agg_date_df = df.groupby(df.index)    # group DataFrame using a mapper or by a Series of columns


agg_date_df['gross income'].mean()


plt.figure(figsize=(12, 5))
sns.lineplot(agg_date_df['gross income'].mean());    # draw a line plot with possibility of several semantic groupings








# sns.pairplot(df)


df.index.is_unique





sns.pairplot(df.reset_index());    # plot pairwise relationships in a dataset








df.duplicated()    # Return boolean Series denoting duplicate rows.


df.duplicated().sum()





df[df.duplicated()]





df = df.drop_duplicates()    # return DataFrame with duplicate rows removed





df.duplicated().sum()





df.isna().sum()








df.isna().sum()/len(df)





sns.heatmap(df.isnull(), cbar=False);








df.fillna(0)





df.loc[:,'Unit price'] = df['Unit price'].fillna(df.loc[:,'Unit price'].mean())
df.loc[:,'Quantity'] = df['Quantity'].fillna(df.loc[:,'Quantity'].mean())





sns.heatmap(df.isnull(), cbar=False);





df.mode().head(3)


df.loc[:,'Customer type'] = df['Customer type'].fillna(df.loc[:,'Customer type'].mode().iloc[0])
df.loc[:,'Product line'] = df['Product line'].fillna(df.loc[:,'Product line'].mode().iloc[0])





sns.heatmap(df.isnull(), cbar=False);








dataset = pd.read_csv('data/supermarket_sales.csv')
prof = ProfileReport(dataset, title='Profiling Report')
prof








np.corrcoef(df['gross income'], df['Rating'])    # correlation coef between gross income and Rating





round(np.corrcoef(df['gross income'], df['Rating'])[1][0], 2)





numeric_cols = ['Unit price', 'Quantity', 'Tax 5%', 'Total', 'cogs', 'gross income', 'Rating']
np.round(df[numeric_cols].corr(), 2)





sns.heatmap(df[numeric_cols].corr(), annot=True, fmt='.2f', lw='.5', cmap='crest');















